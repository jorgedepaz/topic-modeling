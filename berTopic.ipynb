{
 "cells": [
  {
   "cell_type": "markdown",
   "metadata": {},
   "source": [
    "Pasos para hacer funcionar el codigo :)\n",
    "Primero instalar BerTopic pip install bertopic"
   ]
  },
  {
   "cell_type": "code",
   "execution_count": 4,
   "metadata": {},
   "outputs": [],
   "source": [
    "from bertopic import BERTopic\n",
    "import json\n",
    "import pandas as pd\n"
   ]
  },
  {
   "cell_type": "markdown",
   "metadata": {},
   "source": [
    "Aca cargamos el archivo json y lo asignamos a la variable f\n",
    "luego medimos el tamano, en un siguiente codigo el json deberia de descargarse de la API de CosmosDB\n",
    "de BAC GPT\n",
    "\n",
    "Si el dataset es muy grande y estamos realizando pruebas ppodriamos limitar la cantidad de documentos con la siguiente linea de codigo:\n",
    "docs = json.load(f)[\"descriptions\"][:\"cantidad de documentos a cargar\"]"
   ]
  },
  {
   "cell_type": "code",
   "execution_count": 6,
   "metadata": {},
   "outputs": [
    {
     "data": {
      "text/plain": [
       "21747"
      ]
     },
     "execution_count": 6,
     "metadata": {},
     "output_type": "execute_result"
    }
   ],
   "source": [
    "with open(\"vol7.json\", \"r\", encoding=\"utf-8\") as f:\n",
    "    docs = json.load(f)[\"descriptions\"]\n",
    "len(docs)"
   ]
  },
  {
   "cell_type": "markdown",
   "metadata": {},
   "source": [
    "Imprimimos uno de prueba, el indice 0 de 21747"
   ]
  },
  {
   "cell_type": "code",
   "execution_count": 11,
   "metadata": {},
   "outputs": [
    {
     "data": {
      "text/plain": [
       "\"An ANCYL member who was shot and severely injured by SAP members at Lephoi, Bethulie, Orange Free State (OFS) on 17 April 1991. Police opened fire on a gathering at an ANC supporter's house following a dispute between two neighbours, one of whom was linked to the ANC and the other to the SAP and a councillor.\""
      ]
     },
     "execution_count": 11,
     "metadata": {},
     "output_type": "execute_result"
    }
   ],
   "source": [
    "docs[0]"
   ]
  },
  {
   "cell_type": "markdown",
   "metadata": {},
   "source": [
    "Seleccionamos un modelo para transformar nuestro texto en embeddings para represetar numericamente la semantica de nuestro texto"
   ]
  },
  {
   "cell_type": "code",
   "execution_count": 12,
   "metadata": {},
   "outputs": [],
   "source": [
    "topic_model = BERTopic(embedding_model=\"all-MiniLM-L6-v2\")"
   ]
  },
  {
   "cell_type": "markdown",
   "metadata": {},
   "source": [
    "Cargamos todo nuestro dataset al modelo de emmbedigs y lo transformamos"
   ]
  },
  {
   "cell_type": "code",
   "execution_count": 13,
   "metadata": {},
   "outputs": [
    {
     "name": "stderr",
     "output_type": "stream",
     "text": [
      "OMP: Info #276: omp_set_nested routine deprecated, please use omp_set_max_active_levels instead.\n",
      "huggingface/tokenizers: The current process just got forked, after parallelism has already been used. Disabling parallelism to avoid deadlocks...\n",
      "To disable this warning, you can either:\n",
      "\t- Avoid using `tokenizers` before the fork if possible\n",
      "\t- Explicitly set the environment variable TOKENIZERS_PARALLELISM=(true | false)\n",
      "huggingface/tokenizers: The current process just got forked, after parallelism has already been used. Disabling parallelism to avoid deadlocks...\n",
      "To disable this warning, you can either:\n",
      "\t- Avoid using `tokenizers` before the fork if possible\n",
      "\t- Explicitly set the environment variable TOKENIZERS_PARALLELISM=(true | false)\n",
      "huggingface/tokenizers: The current process just got forked, after parallelism has already been used. Disabling parallelism to avoid deadlocks...\n",
      "To disable this warning, you can either:\n",
      "\t- Avoid using `tokenizers` before the fork if possible\n",
      "\t- Explicitly set the environment variable TOKENIZERS_PARALLELISM=(true | false)\n",
      "huggingface/tokenizers: The current process just got forked, after parallelism has already been used. Disabling parallelism to avoid deadlocks...\n",
      "To disable this warning, you can either:\n",
      "\t- Avoid using `tokenizers` before the fork if possible\n",
      "\t- Explicitly set the environment variable TOKENIZERS_PARALLELISM=(true | false)\n",
      "huggingface/tokenizers: The current process just got forked, after parallelism has already been used. Disabling parallelism to avoid deadlocks...\n",
      "To disable this warning, you can either:\n",
      "\t- Avoid using `tokenizers` before the fork if possible\n",
      "\t- Explicitly set the environment variable TOKENIZERS_PARALLELISM=(true | false)\n"
     ]
    }
   ],
   "source": [
    "topics, probs = topic_model.fit_transform(docs)"
   ]
  },
  {
   "cell_type": "markdown",
   "metadata": {},
   "source": [
    "Vemos la informacion de los topicos\n",
    "Verificamos la columna Topic|Count|Name\n",
    "Topic: nos da un valor numerico, cuando es negativo son los outliers (valores que no son normales) son los que normalmente queremos ingnorar\n",
    "probablemente tengamos que ver estos documentos un poco mas de cerca y analizarlos nuevamente para entender porque sus valores son atipicos.\n",
    "\n",
    "ejemplo -1_esto_es_una_prueba\n",
    "\n",
    "Count: es el numero de documentos que son de la categoria topic \n",
    "\n",
    "Name: es un poco de la informacion que tenemos de la categorizacion de topic siguiendo el ejemplo anterior -1_esto_es_una_prueba \n",
    "Primero tenemos el numero de topico seguido del top 4 palabras que representan el documento y estas palabras nos dan una idea de lo que se habla dentro\n",
    "\n",
    "Estas cuatro palabras dan una idea general de lo que tiene dentro el documento pero podemos darle un significado mas profundo a cada documento individualmente(filas)"
   ]
  },
  {
   "cell_type": "code",
   "execution_count": 14,
   "metadata": {},
   "outputs": [
    {
     "data": {
      "text/html": [
       "<div>\n",
       "<style scoped>\n",
       "    .dataframe tbody tr th:only-of-type {\n",
       "        vertical-align: middle;\n",
       "    }\n",
       "\n",
       "    .dataframe tbody tr th {\n",
       "        vertical-align: top;\n",
       "    }\n",
       "\n",
       "    .dataframe thead th {\n",
       "        text-align: right;\n",
       "    }\n",
       "</style>\n",
       "<table border=\"1\" class=\"dataframe\">\n",
       "  <thead>\n",
       "    <tr style=\"text-align: right;\">\n",
       "      <th></th>\n",
       "      <th>Topic</th>\n",
       "      <th>Count</th>\n",
       "      <th>Name</th>\n",
       "      <th>Representation</th>\n",
       "      <th>Representative_Docs</th>\n",
       "    </tr>\n",
       "  </thead>\n",
       "  <tbody>\n",
       "    <tr>\n",
       "      <th>0</th>\n",
       "      <td>-1</td>\n",
       "      <td>5081</td>\n",
       "      <td>-1_shot_his_dead_supporters</td>\n",
       "      <td>[shot, his, dead, supporters, was, the, natal,...</td>\n",
       "      <td>[An ANC supporter who was shot dead by named I...</td>\n",
       "    </tr>\n",
       "    <tr>\n",
       "      <th>1</th>\n",
       "      <td>0</td>\n",
       "      <td>940</td>\n",
       "      <td>0_detained_tortured_arrested_detention</td>\n",
       "      <td>[detained, tortured, arrested, detention, mont...</td>\n",
       "      <td>[Was arrested and beaten with sjamboks and bat...</td>\n",
       "    </tr>\n",
       "    <tr>\n",
       "      <th>2</th>\n",
       "      <td>1</td>\n",
       "      <td>575</td>\n",
       "      <td>1_detained_tortured_arrested_months</td>\n",
       "      <td>[detained, tortured, arrested, months, beaten,...</td>\n",
       "      <td>[A member of the ANC underground in Cape Town ...</td>\n",
       "    </tr>\n",
       "    <tr>\n",
       "      <th>3</th>\n",
       "      <td>2</td>\n",
       "      <td>398</td>\n",
       "      <td>2_udf_detained_regulations_emergency</td>\n",
       "      <td>[udf, detained, regulations, emergency, tortur...</td>\n",
       "      <td>[A UDF supporter who was detained and severely...</td>\n",
       "    </tr>\n",
       "    <tr>\n",
       "      <th>4</th>\n",
       "      <td>3</td>\n",
       "      <td>353</td>\n",
       "      <td>3_stabbed_death_1991_natal</td>\n",
       "      <td>[stabbed, death, 1991, natal, supporter, to, a...</td>\n",
       "      <td>[An ANC supporter who was stabbed and shot dea...</td>\n",
       "    </tr>\n",
       "    <tr>\n",
       "      <th>...</th>\n",
       "      <td>...</td>\n",
       "      <td>...</td>\n",
       "      <td>...</td>\n",
       "      <td>...</td>\n",
       "      <td>...</td>\n",
       "    </tr>\n",
       "    <tr>\n",
       "      <th>400</th>\n",
       "      <td>399</td>\n",
       "      <td>11</td>\n",
       "      <td>399_kgomo_lebowa_bk_gamatlala</td>\n",
       "      <td>[kgomo, lebowa, bk, gamatlala, matlala, propos...</td>\n",
       "      <td>[He had his home in GaMatlala, Lebowa, burnt d...</td>\n",
       "    </tr>\n",
       "    <tr>\n",
       "      <th>401</th>\n",
       "      <td>400</td>\n",
       "      <td>11</td>\n",
       "      <td>400_masked_gunmen_entered_vosloorus</td>\n",
       "      <td>[masked, gunmen, entered, vosloorus, took, pla...</td>\n",
       "      <td>[Was shot and injured when masked gunmen enter...</td>\n",
       "    </tr>\n",
       "    <tr>\n",
       "      <th>402</th>\n",
       "      <td>401</td>\n",
       "      <td>11</td>\n",
       "      <td>401_0219_mpusheni_reserve_eight</td>\n",
       "      <td>[0219, mpusheni, reserve, eight, 18, one, 1999...</td>\n",
       "      <td>[Was one of eight people shot dead by ANC supp...</td>\n",
       "    </tr>\n",
       "    <tr>\n",
       "      <th>403</th>\n",
       "      <td>402</td>\n",
       "      <td>10</td>\n",
       "      <td>402_sonkombo_intense_ndwedwe_attacks</td>\n",
       "      <td>[sonkombo, intense, ndwedwe, attacks, 16, arso...</td>\n",
       "      <td>[She had her house burnt down by IFP supporter...</td>\n",
       "    </tr>\n",
       "    <tr>\n",
       "      <th>404</th>\n",
       "      <td>403</td>\n",
       "      <td>10</td>\n",
       "      <td>403_kzp_twala_returning_amavaravara</td>\n",
       "      <td>[kzp, twala, returning, amavaravara, amasinyor...</td>\n",
       "      <td>[An ANC supporter who was severely beaten by m...</td>\n",
       "    </tr>\n",
       "  </tbody>\n",
       "</table>\n",
       "<p>405 rows × 5 columns</p>\n",
       "</div>"
      ],
      "text/plain": [
       "     Topic  Count                                    Name  \\\n",
       "0       -1   5081             -1_shot_his_dead_supporters   \n",
       "1        0    940  0_detained_tortured_arrested_detention   \n",
       "2        1    575     1_detained_tortured_arrested_months   \n",
       "3        2    398    2_udf_detained_regulations_emergency   \n",
       "4        3    353              3_stabbed_death_1991_natal   \n",
       "..     ...    ...                                     ...   \n",
       "400    399     11           399_kgomo_lebowa_bk_gamatlala   \n",
       "401    400     11     400_masked_gunmen_entered_vosloorus   \n",
       "402    401     11         401_0219_mpusheni_reserve_eight   \n",
       "403    402     10    402_sonkombo_intense_ndwedwe_attacks   \n",
       "404    403     10     403_kzp_twala_returning_amavaravara   \n",
       "\n",
       "                                        Representation  \\\n",
       "0    [shot, his, dead, supporters, was, the, natal,...   \n",
       "1    [detained, tortured, arrested, detention, mont...   \n",
       "2    [detained, tortured, arrested, months, beaten,...   \n",
       "3    [udf, detained, regulations, emergency, tortur...   \n",
       "4    [stabbed, death, 1991, natal, supporter, to, a...   \n",
       "..                                                 ...   \n",
       "400  [kgomo, lebowa, bk, gamatlala, matlala, propos...   \n",
       "401  [masked, gunmen, entered, vosloorus, took, pla...   \n",
       "402  [0219, mpusheni, reserve, eight, 18, one, 1999...   \n",
       "403  [sonkombo, intense, ndwedwe, attacks, 16, arso...   \n",
       "404  [kzp, twala, returning, amavaravara, amasinyor...   \n",
       "\n",
       "                                   Representative_Docs  \n",
       "0    [An ANC supporter who was shot dead by named I...  \n",
       "1    [Was arrested and beaten with sjamboks and bat...  \n",
       "2    [A member of the ANC underground in Cape Town ...  \n",
       "3    [A UDF supporter who was detained and severely...  \n",
       "4    [An ANC supporter who was stabbed and shot dea...  \n",
       "..                                                 ...  \n",
       "400  [He had his home in GaMatlala, Lebowa, burnt d...  \n",
       "401  [Was shot and injured when masked gunmen enter...  \n",
       "402  [Was one of eight people shot dead by ANC supp...  \n",
       "403  [She had her house burnt down by IFP supporter...  \n",
       "404  [An ANC supporter who was severely beaten by m...  \n",
       "\n",
       "[405 rows x 5 columns]"
      ]
     },
     "execution_count": 14,
     "metadata": {},
     "output_type": "execute_result"
    }
   ],
   "source": [
    "topic_model.get_topic_info()"
   ]
  },
  {
   "cell_type": "markdown",
   "metadata": {},
   "source": [
    "Dandole un significado mas entendible a cada fila, verificamos todas las palabras del documento(fila)\n",
    "Cuando utilizamos embbedings no necesitamos limpiar identificando las stop words o hacer el preprocesamiento quitando el ruido que es donde realmente nos ayuda Bert"
   ]
  },
  {
   "cell_type": "code",
   "execution_count": 16,
   "metadata": {},
   "outputs": [
    {
     "data": {
      "text/plain": [
       "[('detained', 0.0107056242823906),\n",
       " ('tortured', 0.009686388537417085),\n",
       " ('arrested', 0.006656504590473885),\n",
       " ('months', 0.006287972137106075),\n",
       " ('beaten', 0.006203905690265667),\n",
       " ('years', 0.00603493918213738),\n",
       " ('he', 0.005904900863868883),\n",
       " ('detention', 0.005844075378554553),\n",
       " ('imprisonment', 0.005135921447951197),\n",
       " ('sentenced', 0.005126438877579381)]"
      ]
     },
     "execution_count": 16,
     "metadata": {},
     "output_type": "execute_result"
    }
   ],
   "source": [
    "topic_model.get_topic(1)"
   ]
  },
  {
   "cell_type": "markdown",
   "metadata": {},
   "source": [
    "La pregunta seria que documentos estan en este topico de arriba?\n",
    "Lo hacemos con la siguiente linea de codigo, ya que el modelo guarda por nosotros esta informacion"
   ]
  },
  {
   "cell_type": "code",
   "execution_count": null,
   "metadata": {},
   "outputs": [],
   "source": [
    "topic_model.get_representative_docs(1)"
   ]
  }
 ],
 "metadata": {
  "kernelspec": {
   "display_name": ".venv",
   "language": "python",
   "name": "python3"
  },
  "language_info": {
   "codemirror_mode": {
    "name": "ipython",
    "version": 3
   },
   "file_extension": ".py",
   "mimetype": "text/x-python",
   "name": "python",
   "nbconvert_exporter": "python",
   "pygments_lexer": "ipython3",
   "version": "3.11.4"
  }
 },
 "nbformat": 4,
 "nbformat_minor": 2
}
